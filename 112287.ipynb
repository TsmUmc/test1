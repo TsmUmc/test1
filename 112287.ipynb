{
 "cells": [
  {
   "cell_type": "code",
   "execution_count": 1,
   "id": "10e9a8d9",
   "metadata": {},
   "outputs": [
    {
     "name": "stdout",
     "output_type": "stream",
     "text": [
      "Requirement already satisfied: twstock in c:\\users\\administrator\\anaconda3\\lib\\site-packages (1.3.1)\n",
      "Requirement already satisfied: requests in c:\\users\\administrator\\anaconda3\\lib\\site-packages (from twstock) (2.25.1)\n",
      "Requirement already satisfied: urllib3<1.27,>=1.21.1 in c:\\users\\administrator\\anaconda3\\lib\\site-packages (from requests->twstock) (1.26.4)\n",
      "Requirement already satisfied: idna<3,>=2.5 in c:\\users\\administrator\\anaconda3\\lib\\site-packages (from requests->twstock) (2.10)\n",
      "Requirement already satisfied: certifi>=2017.4.17 in c:\\users\\administrator\\anaconda3\\lib\\site-packages (from requests->twstock) (2020.12.5)\n",
      "Requirement already satisfied: chardet<5,>=3.0.2 in c:\\users\\administrator\\anaconda3\\lib\\site-packages (from requests->twstock) (4.0.0)\n",
      "Note: you may need to restart the kernel to use updated packages.\n"
     ]
    }
   ],
   "source": [
    "pip install twstock"
   ]
  },
  {
   "cell_type": "code",
   "execution_count": 2,
   "id": "73d140fe",
   "metadata": {},
   "outputs": [
    {
     "ename": "SyntaxError",
     "evalue": "invalid syntax (<ipython-input-2-420c27ff9c9d>, line 1)",
     "output_type": "error",
     "traceback": [
      "\u001b[1;36m  File \u001b[1;32m\"<ipython-input-2-420c27ff9c9d>\"\u001b[1;36m, line \u001b[1;32m1\u001b[0m\n\u001b[1;33m    twstock -b 2330 6223\u001b[0m\n\u001b[1;37m               ^\u001b[0m\n\u001b[1;31mSyntaxError\u001b[0m\u001b[1;31m:\u001b[0m invalid syntax\n"
     ]
    }
   ],
   "source": [
    "twstock -b 2330 6223"
   ]
  },
  {
   "cell_type": "code",
   "execution_count": 3,
   "id": "70dab054",
   "metadata": {},
   "outputs": [],
   "source": [
    "import twstock"
   ]
  },
  {
   "cell_type": "code",
   "execution_count": 4,
   "id": "efbcf9ea",
   "metadata": {},
   "outputs": [
    {
     "ename": "SyntaxError",
     "evalue": "invalid syntax (<ipython-input-4-420c27ff9c9d>, line 1)",
     "output_type": "error",
     "traceback": [
      "\u001b[1;36m  File \u001b[1;32m\"<ipython-input-4-420c27ff9c9d>\"\u001b[1;36m, line \u001b[1;32m1\u001b[0m\n\u001b[1;33m    twstock -b 2330 6223\u001b[0m\n\u001b[1;37m               ^\u001b[0m\n\u001b[1;31mSyntaxError\u001b[0m\u001b[1;31m:\u001b[0m invalid syntax\n"
     ]
    }
   ],
   "source": [
    "twstock -b 2330 6223"
   ]
  },
  {
   "cell_type": "code",
   "execution_count": 5,
   "id": "038bcfef",
   "metadata": {},
   "outputs": [
    {
     "ename": "SyntaxError",
     "evalue": "invalid syntax (<ipython-input-5-3b319e489b7e>, line 1)",
     "output_type": "error",
     "traceback": [
      "\u001b[1;36m  File \u001b[1;32m\"<ipython-input-5-3b319e489b7e>\"\u001b[1;36m, line \u001b[1;32m1\u001b[0m\n\u001b[1;33m    twstock -s 2330 6223\u001b[0m\n\u001b[1;37m               ^\u001b[0m\n\u001b[1;31mSyntaxError\u001b[0m\u001b[1;31m:\u001b[0m invalid syntax\n"
     ]
    }
   ],
   "source": [
    "twstock -s 2330 6223"
   ]
  },
  {
   "cell_type": "code",
   "execution_count": 6,
   "id": "69cdc5ac",
   "metadata": {},
   "outputs": [
    {
     "ename": "SyntaxError",
     "evalue": "invalid syntax (<ipython-input-6-bda6318e466b>, line 1)",
     "output_type": "error",
     "traceback": [
      "\u001b[1;36m  File \u001b[1;32m\"<ipython-input-6-bda6318e466b>\"\u001b[1;36m, line \u001b[1;32m1\u001b[0m\n\u001b[1;33m    s 2330 6223\u001b[0m\n\u001b[1;37m      ^\u001b[0m\n\u001b[1;31mSyntaxError\u001b[0m\u001b[1;31m:\u001b[0m invalid syntax\n"
     ]
    }
   ],
   "source": [
    "s 2330 6223"
   ]
  },
  {
   "cell_type": "code",
   "execution_count": 7,
   "id": "cccb88e4",
   "metadata": {},
   "outputs": [
    {
     "ename": "ModuleNotFoundError",
     "evalue": "No module named 'talib'",
     "output_type": "error",
     "traceback": [
      "\u001b[1;31m---------------------------------------------------------------------------\u001b[0m",
      "\u001b[1;31mModuleNotFoundError\u001b[0m                       Traceback (most recent call last)",
      "\u001b[1;32m<ipython-input-7-8e10de3af6d4>\u001b[0m in \u001b[0;36m<module>\u001b[1;34m\u001b[0m\n\u001b[0;32m      1\u001b[0m \u001b[1;32mimport\u001b[0m \u001b[0mpandas\u001b[0m \u001b[1;32mas\u001b[0m \u001b[0mpd\u001b[0m\u001b[1;33m\u001b[0m\u001b[1;33m\u001b[0m\u001b[0m\n\u001b[0;32m      2\u001b[0m \u001b[1;32mimport\u001b[0m \u001b[0mnumpy\u001b[0m \u001b[1;32mas\u001b[0m \u001b[0mnp\u001b[0m\u001b[1;33m\u001b[0m\u001b[1;33m\u001b[0m\u001b[0m\n\u001b[1;32m----> 3\u001b[1;33m \u001b[1;32mimport\u001b[0m \u001b[0mtalib\u001b[0m\u001b[1;33m\u001b[0m\u001b[1;33m\u001b[0m\u001b[0m\n\u001b[0m\u001b[0;32m      4\u001b[0m \u001b[1;32mimport\u001b[0m \u001b[0mmatplotlib\u001b[0m\u001b[1;33m.\u001b[0m\u001b[0mpyplot\u001b[0m \u001b[1;32mas\u001b[0m \u001b[0mplt\u001b[0m\u001b[1;33m\u001b[0m\u001b[1;33m\u001b[0m\u001b[0m\n\u001b[0;32m      5\u001b[0m \u001b[1;32mimport\u001b[0m \u001b[0mpybacktest\u001b[0m\u001b[1;33m\u001b[0m\u001b[1;33m\u001b[0m\u001b[0m\n",
      "\u001b[1;31mModuleNotFoundError\u001b[0m: No module named 'talib'"
     ]
    }
   ],
   "source": [
    "import pandas as pd\n",
    "import numpy as np\n",
    "import talib\n",
    "import matplotlib.pyplot as plt\n",
    "import pybacktest"
   ]
  },
  {
   "cell_type": "code",
   "execution_count": 8,
   "id": "2bca0795",
   "metadata": {},
   "outputs": [
    {
     "name": "stdout",
     "output_type": "stream",
     "text": [
      "Note: you may need to restart the kernel to use updated packages.\n"
     ]
    },
    {
     "name": "stderr",
     "output_type": "stream",
     "text": [
      "ERROR: Could not find a version that satisfies the requirement tabil\n",
      "ERROR: No matching distribution found for tabil\n"
     ]
    }
   ],
   "source": [
    "pip install tabil"
   ]
  },
  {
   "cell_type": "code",
   "execution_count": 9,
   "id": "1dfe16e0",
   "metadata": {},
   "outputs": [
    {
     "name": "stdout",
     "output_type": "stream",
     "text": [
      "Note: you may need to restart the kernel to use updated packages.\n"
     ]
    },
    {
     "name": "stderr",
     "output_type": "stream",
     "text": [
      "ERROR: Could not find a version that satisfies the requirement talib\n",
      "ERROR: No matching distribution found for talib\n"
     ]
    }
   ],
   "source": [
    "pip install talib"
   ]
  },
  {
   "cell_type": "code",
   "execution_count": 10,
   "id": "f6839f74",
   "metadata": {},
   "outputs": [
    {
     "ename": "SyntaxError",
     "evalue": "unexpected EOF while parsing (<ipython-input-10-f2a94a5d829a>, line 6)",
     "output_type": "error",
     "traceback": [
      "\u001b[1;36m  File \u001b[1;32m\"<ipython-input-10-f2a94a5d829a>\"\u001b[1;36m, line \u001b[1;32m6\u001b[0m\n\u001b[1;33m    'figure.dpi': 100\u001b[0m\n\u001b[1;37m                     ^\u001b[0m\n\u001b[1;31mSyntaxError\u001b[0m\u001b[1;31m:\u001b[0m unexpected EOF while parsing\n"
     ]
    }
   ],
   "source": [
    "plt.rcParams.update({\n",
    "    'font.family': ['Microsoft JhengHei'],\n",
    "    'figure.autolayout': True,\n",
    "    'axes.unicode_minus': True,\n",
    "    'savefig.dpi': 100,\n",
    "    'figure.dpi': 100"
   ]
  },
  {
   "cell_type": "code",
   "execution_count": 11,
   "id": "737948e8",
   "metadata": {},
   "outputs": [
    {
     "ename": "FileNotFoundError",
     "evalue": "[Errno 2] No such file or directory: 'STOCK_DAY_ALL_20211122.csv'",
     "output_type": "error",
     "traceback": [
      "\u001b[1;31m---------------------------------------------------------------------------\u001b[0m",
      "\u001b[1;31mFileNotFoundError\u001b[0m                         Traceback (most recent call last)",
      "\u001b[1;32m<ipython-input-11-d589a5d07988>\u001b[0m in \u001b[0;36m<module>\u001b[1;34m\u001b[0m\n\u001b[0;32m      1\u001b[0m \u001b[1;32mimport\u001b[0m \u001b[0mcsv\u001b[0m\u001b[1;33m\u001b[0m\u001b[1;33m\u001b[0m\u001b[0m\n\u001b[0;32m      2\u001b[0m \u001b[0mfn\u001b[0m\u001b[1;33m=\u001b[0m\u001b[1;34m'STOCK_DAY_ALL_20211122.csv'\u001b[0m\u001b[1;33m\u001b[0m\u001b[1;33m\u001b[0m\u001b[0m\n\u001b[1;32m----> 3\u001b[1;33m \u001b[1;32mwith\u001b[0m \u001b[0mopen\u001b[0m\u001b[1;33m(\u001b[0m\u001b[0mfn\u001b[0m\u001b[1;33m,\u001b[0m\u001b[0mencoding\u001b[0m\u001b[1;33m=\u001b[0m\u001b[1;34m'utf8'\u001b[0m\u001b[1;33m)\u001b[0m\u001b[1;32mas\u001b[0m \u001b[0mcsvFile\u001b[0m\u001b[1;33m:\u001b[0m\u001b[1;33m\u001b[0m\u001b[1;33m\u001b[0m\u001b[0m\n\u001b[0m\u001b[0;32m      4\u001b[0m     \u001b[0mcsvReader\u001b[0m\u001b[1;33m=\u001b[0m\u001b[0mcsv\u001b[0m\u001b[1;33m.\u001b[0m\u001b[0mreader\u001b[0m\u001b[1;33m(\u001b[0m\u001b[0mcsvFile\u001b[0m\u001b[1;33m)\u001b[0m\u001b[1;33m\u001b[0m\u001b[1;33m\u001b[0m\u001b[0m\n\u001b[0;32m      5\u001b[0m     \u001b[0mlistReport\u001b[0m\u001b[1;33m=\u001b[0m\u001b[0mlist\u001b[0m\u001b[1;33m(\u001b[0m\u001b[0mcsvReader\u001b[0m\u001b[1;33m)\u001b[0m\u001b[1;33m\u001b[0m\u001b[1;33m\u001b[0m\u001b[0m\n",
      "\u001b[1;31mFileNotFoundError\u001b[0m: [Errno 2] No such file or directory: 'STOCK_DAY_ALL_20211122.csv'"
     ]
    }
   ],
   "source": [
    "import csv\n",
    "fn='STOCK_DAY_ALL_20211122.csv'\n",
    "with open(fn,encoding='utf8')as csvFile:\n",
    "    csvReader=csv.reader(csvFile)\n",
    "    listReport=list(csvReader)\n",
    "print(listReport)  "
   ]
  },
  {
   "cell_type": "code",
   "execution_count": 12,
   "id": "10b07176",
   "metadata": {},
   "outputs": [],
   "source": [
    "import csv\n",
    "fn='STOCK_DAY_ALL_20211122.csv'\n"
   ]
  },
  {
   "cell_type": "code",
   "execution_count": 13,
   "id": "397e91e9",
   "metadata": {},
   "outputs": [
    {
     "ename": "NameError",
     "evalue": "name 'listReport' is not defined",
     "output_type": "error",
     "traceback": [
      "\u001b[1;31m---------------------------------------------------------------------------\u001b[0m",
      "\u001b[1;31mNameError\u001b[0m                                 Traceback (most recent call last)",
      "\u001b[1;32m<ipython-input-13-2544637617ff>\u001b[0m in \u001b[0;36m<module>\u001b[1;34m\u001b[0m\n\u001b[1;32m----> 1\u001b[1;33m \u001b[0mprint\u001b[0m\u001b[1;33m(\u001b[0m\u001b[0mlistReport\u001b[0m\u001b[1;33m)\u001b[0m\u001b[1;33m\u001b[0m\u001b[1;33m\u001b[0m\u001b[0m\n\u001b[0m",
      "\u001b[1;31mNameError\u001b[0m: name 'listReport' is not defined"
     ]
    }
   ],
   "source": [
    "print(listReport)  "
   ]
  },
  {
   "cell_type": "code",
   "execution_count": 14,
   "id": "fcadc123",
   "metadata": {},
   "outputs": [
    {
     "name": "stdout",
     "output_type": "stream",
     "text": [
      "Requirement already satisfied: yfinance in c:\\users\\administrator\\anaconda3\\lib\\site-packages (0.1.66)\n",
      "Requirement already satisfied: numpy>=1.15 in c:\\users\\administrator\\anaconda3\\lib\\site-packages (from yfinance) (1.20.1)\n",
      "Requirement already satisfied: multitasking>=0.0.7 in c:\\users\\administrator\\anaconda3\\lib\\site-packages (from yfinance) (0.0.10)\n",
      "Requirement already satisfied: requests>=2.20 in c:\\users\\administrator\\anaconda3\\lib\\site-packages (from yfinance) (2.25.1)\n",
      "Requirement already satisfied: lxml>=4.5.1 in c:\\users\\administrator\\anaconda3\\lib\\site-packages (from yfinance) (4.6.3)\n",
      "Requirement already satisfied: pandas>=0.24 in c:\\users\\administrator\\anaconda3\\lib\\site-packages (from yfinance) (1.2.4)\n",
      "Requirement already satisfied: pytz>=2017.3 in c:\\users\\administrator\\anaconda3\\lib\\site-packages (from pandas>=0.24->yfinance) (2021.1)\n",
      "Requirement already satisfied: python-dateutil>=2.7.3 in c:\\users\\administrator\\anaconda3\\lib\\site-packages (from pandas>=0.24->yfinance) (2.8.1)\n",
      "Requirement already satisfied: six>=1.5 in c:\\users\\administrator\\anaconda3\\lib\\site-packages (from python-dateutil>=2.7.3->pandas>=0.24->yfinance) (1.15.0)\n",
      "Requirement already satisfied: certifi>=2017.4.17 in c:\\users\\administrator\\anaconda3\\lib\\site-packages (from requests>=2.20->yfinance) (2020.12.5)\n",
      "Requirement already satisfied: chardet<5,>=3.0.2 in c:\\users\\administrator\\anaconda3\\lib\\site-packages (from requests>=2.20->yfinance) (4.0.0)\n",
      "Requirement already satisfied: idna<3,>=2.5 in c:\\users\\administrator\\anaconda3\\lib\\site-packages (from requests>=2.20->yfinance) (2.10)\n",
      "Requirement already satisfied: urllib3<1.27,>=1.21.1 in c:\\users\\administrator\\anaconda3\\lib\\site-packages (from requests>=2.20->yfinance) (1.26.4)\n",
      "Note: you may need to restart the kernel to use updated packages.\n"
     ]
    }
   ],
   "source": [
    "pip install yfinance"
   ]
  },
  {
   "cell_type": "code",
   "execution_count": 15,
   "id": "9b8b9451",
   "metadata": {},
   "outputs": [],
   "source": [
    "import pandas as pd\n",
    "import numpy as np\n",
    "import matplotlib.pyplot as plt\n",
    "import yfinance as yf\n",
    "plt.style.use('fivethirtyeight')"
   ]
  },
  {
   "cell_type": "code",
   "execution_count": 16,
   "id": "e3b9d01f",
   "metadata": {},
   "outputs": [
    {
     "ename": "NameError",
     "evalue": "name 'df' is not defined",
     "output_type": "error",
     "traceback": [
      "\u001b[1;31m---------------------------------------------------------------------------\u001b[0m",
      "\u001b[1;31mNameError\u001b[0m                                 Traceback (most recent call last)",
      "\u001b[1;32m<ipython-input-16-5abbaff9c125>\u001b[0m in \u001b[0;36m<module>\u001b[1;34m\u001b[0m\n\u001b[1;32m----> 1\u001b[1;33m \u001b[0mdf\u001b[0m\u001b[1;33m.\u001b[0m\u001b[0mtail\u001b[0m\u001b[1;33m(\u001b[0m\u001b[1;36m15\u001b[0m\u001b[1;33m)\u001b[0m\u001b[1;33m\u001b[0m\u001b[1;33m\u001b[0m\u001b[0m\n\u001b[0m",
      "\u001b[1;31mNameError\u001b[0m: name 'df' is not defined"
     ]
    }
   ],
   "source": [
    "df.tail(15)"
   ]
  },
  {
   "cell_type": "code",
   "execution_count": 17,
   "id": "2b3e51be",
   "metadata": {},
   "outputs": [
    {
     "name": "stdout",
     "output_type": "stream",
     "text": [
      "[*********************100%***********************]  1 of 1 completed\n"
     ]
    }
   ],
   "source": [
    "#股票代號\n",
    "stock_no='2330.TW'\n",
    "#起始日期\n",
    "start_date='2019-01-01'\n",
    "#下載資料\n",
    "df=yf.download(stock_no,start=start_date)"
   ]
  },
  {
   "cell_type": "code",
   "execution_count": 18,
   "id": "026c4250",
   "metadata": {},
   "outputs": [
    {
     "data": {
      "text/html": [
       "<div>\n",
       "<style scoped>\n",
       "    .dataframe tbody tr th:only-of-type {\n",
       "        vertical-align: middle;\n",
       "    }\n",
       "\n",
       "    .dataframe tbody tr th {\n",
       "        vertical-align: top;\n",
       "    }\n",
       "\n",
       "    .dataframe thead th {\n",
       "        text-align: right;\n",
       "    }\n",
       "</style>\n",
       "<table border=\"1\" class=\"dataframe\">\n",
       "  <thead>\n",
       "    <tr style=\"text-align: right;\">\n",
       "      <th></th>\n",
       "      <th>Open</th>\n",
       "      <th>High</th>\n",
       "      <th>Low</th>\n",
       "      <th>Close</th>\n",
       "      <th>Adj Close</th>\n",
       "      <th>Volume</th>\n",
       "    </tr>\n",
       "    <tr>\n",
       "      <th>Date</th>\n",
       "      <th></th>\n",
       "      <th></th>\n",
       "      <th></th>\n",
       "      <th></th>\n",
       "      <th></th>\n",
       "      <th></th>\n",
       "    </tr>\n",
       "  </thead>\n",
       "  <tbody>\n",
       "    <tr>\n",
       "      <th>2021-11-02</th>\n",
       "      <td>594.0</td>\n",
       "      <td>597.0</td>\n",
       "      <td>590.0</td>\n",
       "      <td>592.0</td>\n",
       "      <td>592.0</td>\n",
       "      <td>15192404</td>\n",
       "    </tr>\n",
       "    <tr>\n",
       "      <th>2021-11-03</th>\n",
       "      <td>597.0</td>\n",
       "      <td>597.0</td>\n",
       "      <td>592.0</td>\n",
       "      <td>592.0</td>\n",
       "      <td>592.0</td>\n",
       "      <td>10224009</td>\n",
       "    </tr>\n",
       "    <tr>\n",
       "      <th>2021-11-04</th>\n",
       "      <td>592.0</td>\n",
       "      <td>594.0</td>\n",
       "      <td>585.0</td>\n",
       "      <td>587.0</td>\n",
       "      <td>587.0</td>\n",
       "      <td>17932145</td>\n",
       "    </tr>\n",
       "    <tr>\n",
       "      <th>2021-11-05</th>\n",
       "      <td>598.0</td>\n",
       "      <td>600.0</td>\n",
       "      <td>595.0</td>\n",
       "      <td>600.0</td>\n",
       "      <td>600.0</td>\n",
       "      <td>33270827</td>\n",
       "    </tr>\n",
       "    <tr>\n",
       "      <th>2021-11-08</th>\n",
       "      <td>600.0</td>\n",
       "      <td>602.0</td>\n",
       "      <td>598.0</td>\n",
       "      <td>602.0</td>\n",
       "      <td>602.0</td>\n",
       "      <td>19752355</td>\n",
       "    </tr>\n",
       "    <tr>\n",
       "      <th>2021-11-09</th>\n",
       "      <td>611.0</td>\n",
       "      <td>617.0</td>\n",
       "      <td>610.0</td>\n",
       "      <td>611.0</td>\n",
       "      <td>611.0</td>\n",
       "      <td>39538660</td>\n",
       "    </tr>\n",
       "    <tr>\n",
       "      <th>2021-11-10</th>\n",
       "      <td>611.0</td>\n",
       "      <td>612.0</td>\n",
       "      <td>608.0</td>\n",
       "      <td>612.0</td>\n",
       "      <td>612.0</td>\n",
       "      <td>16027674</td>\n",
       "    </tr>\n",
       "    <tr>\n",
       "      <th>2021-11-11</th>\n",
       "      <td>600.0</td>\n",
       "      <td>606.0</td>\n",
       "      <td>600.0</td>\n",
       "      <td>606.0</td>\n",
       "      <td>606.0</td>\n",
       "      <td>18463848</td>\n",
       "    </tr>\n",
       "    <tr>\n",
       "      <th>2021-11-12</th>\n",
       "      <td>610.0</td>\n",
       "      <td>611.0</td>\n",
       "      <td>602.0</td>\n",
       "      <td>604.0</td>\n",
       "      <td>604.0</td>\n",
       "      <td>15821327</td>\n",
       "    </tr>\n",
       "    <tr>\n",
       "      <th>2021-11-15</th>\n",
       "      <td>609.0</td>\n",
       "      <td>611.0</td>\n",
       "      <td>607.0</td>\n",
       "      <td>608.0</td>\n",
       "      <td>608.0</td>\n",
       "      <td>15551452</td>\n",
       "    </tr>\n",
       "    <tr>\n",
       "      <th>2021-11-16</th>\n",
       "      <td>612.0</td>\n",
       "      <td>612.0</td>\n",
       "      <td>608.0</td>\n",
       "      <td>610.0</td>\n",
       "      <td>610.0</td>\n",
       "      <td>20917108</td>\n",
       "    </tr>\n",
       "    <tr>\n",
       "      <th>2021-11-17</th>\n",
       "      <td>615.0</td>\n",
       "      <td>615.0</td>\n",
       "      <td>608.0</td>\n",
       "      <td>610.0</td>\n",
       "      <td>610.0</td>\n",
       "      <td>19717852</td>\n",
       "    </tr>\n",
       "    <tr>\n",
       "      <th>2021-11-18</th>\n",
       "      <td>613.0</td>\n",
       "      <td>614.0</td>\n",
       "      <td>607.0</td>\n",
       "      <td>613.0</td>\n",
       "      <td>613.0</td>\n",
       "      <td>20030651</td>\n",
       "    </tr>\n",
       "    <tr>\n",
       "      <th>2021-11-19</th>\n",
       "      <td>622.0</td>\n",
       "      <td>623.0</td>\n",
       "      <td>617.0</td>\n",
       "      <td>618.0</td>\n",
       "      <td>618.0</td>\n",
       "      <td>35554348</td>\n",
       "    </tr>\n",
       "    <tr>\n",
       "      <th>2021-11-22</th>\n",
       "      <td>618.0</td>\n",
       "      <td>618.0</td>\n",
       "      <td>615.0</td>\n",
       "      <td>615.0</td>\n",
       "      <td>615.0</td>\n",
       "      <td>20493341</td>\n",
       "    </tr>\n",
       "  </tbody>\n",
       "</table>\n",
       "</div>"
      ],
      "text/plain": [
       "             Open   High    Low  Close  Adj Close    Volume\n",
       "Date                                                       \n",
       "2021-11-02  594.0  597.0  590.0  592.0      592.0  15192404\n",
       "2021-11-03  597.0  597.0  592.0  592.0      592.0  10224009\n",
       "2021-11-04  592.0  594.0  585.0  587.0      587.0  17932145\n",
       "2021-11-05  598.0  600.0  595.0  600.0      600.0  33270827\n",
       "2021-11-08  600.0  602.0  598.0  602.0      602.0  19752355\n",
       "2021-11-09  611.0  617.0  610.0  611.0      611.0  39538660\n",
       "2021-11-10  611.0  612.0  608.0  612.0      612.0  16027674\n",
       "2021-11-11  600.0  606.0  600.0  606.0      606.0  18463848\n",
       "2021-11-12  610.0  611.0  602.0  604.0      604.0  15821327\n",
       "2021-11-15  609.0  611.0  607.0  608.0      608.0  15551452\n",
       "2021-11-16  612.0  612.0  608.0  610.0      610.0  20917108\n",
       "2021-11-17  615.0  615.0  608.0  610.0      610.0  19717852\n",
       "2021-11-18  613.0  614.0  607.0  613.0      613.0  20030651\n",
       "2021-11-19  622.0  623.0  617.0  618.0      618.0  35554348\n",
       "2021-11-22  618.0  618.0  615.0  615.0      615.0  20493341"
      ]
     },
     "execution_count": 18,
     "metadata": {},
     "output_type": "execute_result"
    }
   ],
   "source": [
    "df.tail(15)"
   ]
  },
  {
   "cell_type": "code",
   "execution_count": 19,
   "id": "6f5e2e1c",
   "metadata": {},
   "outputs": [
    {
     "data": {
      "image/png": "[encoded data removed]",
      "text/plain": [
       "<Figure size 878.4x324 with 1 Axes>"
      ]
     },
     "metadata": {},
     "output_type": "display_data"
    }
   ],
   "source": [
    "#畫出歷史股價走勢圖\n",
    "#不能直接使用中文字型，所以用英文代替\n",
    "#如何使用中文字型，請參考之前的文章或自行google\n",
    "plt.figure(figsize=(12.2,4.5))\n",
    "plt.plot(df['Close'], label='Close')\n",
    "plt.title('Close Price History')\n",
    "#字斜45度角\n",
    "plt.xticks(rotation=45)\n",
    "plt.xlabel('Date')\n",
    "plt.ylabel('Price')\n",
    "plt.show()"
   ]
  },
  {
   "cell_type": "code",
   "execution_count": 20,
   "id": "41b53e14",
   "metadata": {},
   "outputs": [],
   "source": [
    "#Calculate the MACD and Signal line indicators\n",
    "#Calculate the short term exponential moving average (EMA)\n",
    "#指數移動平均線\n",
    "ShortEMA=df.Close.ewm(span=12,adjust=False).mean()\n",
    "#Calculate the long term exponential moving average (EMA)\n",
    "LongEMA=df.Close.ewm(span=26,adjust=False).mean()\n",
    "#Calculat the MACD line\n",
    "MACD=ShortEMA-LongEMA\n",
    "#Calculat the Signal line\n",
    "signal=MACD.ewm(span=9,adjust=False).mean()"
   ]
  },
  {
   "cell_type": "code",
   "execution_count": 21,
   "id": "c04bad7d",
   "metadata": {},
   "outputs": [
    {
     "data": {
      "image/png": "[encoded data removed]",
      "text/plain": [
       "<Figure size 878.4x324 with 1 Axes>"
      ]
     },
     "metadata": {},
     "output_type": "display_data"
    }
   ],
   "source": [
    "#畫圖\n",
    "plt.figure(figsize=(12.2,4.5))\n",
    "plt.xticks(rotation=45)\n",
    "plt.plot(df.index , MACD, label='2330 MACD', color='red')\n",
    "plt.plot(df.index , signal, label='Signal', color='Blue')\n",
    "plt.legend(loc='upper left')\n",
    "plt.show()"
   ]
  },
  {
   "cell_type": "code",
   "execution_count": 22,
   "id": "7685508d",
   "metadata": {
    "scrolled": true
   },
   "outputs": [
    {
     "data": {
      "text/html": [
       "<div>\n",
       "<style scoped>\n",
       "    .dataframe tbody tr th:only-of-type {\n",
       "        vertical-align: middle;\n",
       "    }\n",
       "\n",
       "    .dataframe tbody tr th {\n",
       "        vertical-align: top;\n",
       "    }\n",
       "\n",
       "    .dataframe thead th {\n",
       "        text-align: right;\n",
       "    }\n",
       "</style>\n",
       "<table border=\"1\" class=\"dataframe\">\n",
       "  <thead>\n",
       "    <tr style=\"text-align: right;\">\n",
       "      <th></th>\n",
       "      <th>Open</th>\n",
       "      <th>High</th>\n",
       "      <th>Low</th>\n",
       "      <th>Close</th>\n",
       "      <th>Adj Close</th>\n",
       "      <th>Volume</th>\n",
       "      <th>MACD</th>\n",
       "      <th>Signal Line</th>\n",
       "    </tr>\n",
       "    <tr>\n",
       "      <th>Date</th>\n",
       "      <th></th>\n",
       "      <th></th>\n",
       "      <th></th>\n",
       "      <th></th>\n",
       "      <th></th>\n",
       "      <th></th>\n",
       "      <th></th>\n",
       "      <th></th>\n",
       "    </tr>\n",
       "  </thead>\n",
       "  <tbody>\n",
       "    <tr>\n",
       "      <th>2019-01-02</th>\n",
       "      <td>226.5</td>\n",
       "      <td>226.5</td>\n",
       "      <td>219.0</td>\n",
       "      <td>219.5</td>\n",
       "      <td>200.950928</td>\n",
       "      <td>32900482</td>\n",
       "      <td>0.000000</td>\n",
       "      <td>0.000000</td>\n",
       "    </tr>\n",
       "    <tr>\n",
       "      <th>2019-01-03</th>\n",
       "      <td>214.0</td>\n",
       "      <td>218.0</td>\n",
       "      <td>214.0</td>\n",
       "      <td>215.5</td>\n",
       "      <td>197.288925</td>\n",
       "      <td>34087620</td>\n",
       "      <td>-0.319088</td>\n",
       "      <td>-0.063818</td>\n",
       "    </tr>\n",
       "    <tr>\n",
       "      <th>2019-01-04</th>\n",
       "      <td>211.5</td>\n",
       "      <td>211.5</td>\n",
       "      <td>206.5</td>\n",
       "      <td>208.0</td>\n",
       "      <td>190.422745</td>\n",
       "      <td>65943521</td>\n",
       "      <td>-1.163741</td>\n",
       "      <td>-0.283802</td>\n",
       "    </tr>\n",
       "    <tr>\n",
       "      <th>2019-01-07</th>\n",
       "      <td>212.0</td>\n",
       "      <td>214.0</td>\n",
       "      <td>211.0</td>\n",
       "      <td>213.0</td>\n",
       "      <td>195.000214</td>\n",
       "      <td>35442176</td>\n",
       "      <td>-1.413383</td>\n",
       "      <td>-0.509718</td>\n",
       "    </tr>\n",
       "    <tr>\n",
       "      <th>2019-01-08</th>\n",
       "      <td>212.0</td>\n",
       "      <td>212.5</td>\n",
       "      <td>210.0</td>\n",
       "      <td>211.0</td>\n",
       "      <td>193.169205</td>\n",
       "      <td>22694481</td>\n",
       "      <td>-1.752409</td>\n",
       "      <td>-0.758256</td>\n",
       "    </tr>\n",
       "  </tbody>\n",
       "</table>\n",
       "</div>"
      ],
      "text/plain": [
       "             Open   High    Low  Close   Adj Close    Volume      MACD  \\\n",
       "Date                                                                     \n",
       "2019-01-02  226.5  226.5  219.0  219.5  200.950928  32900482  0.000000   \n",
       "2019-01-03  214.0  218.0  214.0  215.5  197.288925  34087620 -0.319088   \n",
       "2019-01-04  211.5  211.5  206.5  208.0  190.422745  65943521 -1.163741   \n",
       "2019-01-07  212.0  214.0  211.0  213.0  195.000214  35442176 -1.413383   \n",
       "2019-01-08  212.0  212.5  210.0  211.0  193.169205  22694481 -1.752409   \n",
       "\n",
       "            Signal Line  \n",
       "Date                     \n",
       "2019-01-02     0.000000  \n",
       "2019-01-03    -0.063818  \n",
       "2019-01-04    -0.283802  \n",
       "2019-01-07    -0.509718  \n",
       "2019-01-08    -0.758256  "
      ]
     },
     "execution_count": 22,
     "metadata": {},
     "output_type": "execute_result"
    }
   ],
   "source": [
    "df['MACD']=MACD\n",
    "df['Signal Line']=signal\n",
    "df.head()"
   ]
  },
  {
   "cell_type": "code",
   "execution_count": 23,
   "id": "74367dbd",
   "metadata": {},
   "outputs": [],
   "source": [
    "# create a funtion to signal when to buy and sell an asset\n",
    "#買賣點的判斷，這只是一個示範，並不能實際用於買賣股票!!!\n",
    "def Buy_Sell(signal):\n",
    "  Buy=[]\n",
    "  Sell=[]\n",
    "  flag=-1\n",
    "\n",
    "  for i in range(0,len(signal)):\n",
    "    if signal['MACD'][i] > signal['Signal Line'][i]:\n",
    "      Sell.append(np.nan)\n",
    "      if flag !=1:\n",
    "        Buy.append(signal['Close'][i])\n",
    "        flag=1\n",
    "      else:\n",
    "        Buy.append(np.nan)\n",
    "    elif signal['MACD'][i] < signal['Signal Line'][i]:\n",
    "      Buy.append(np.nan)\n",
    "      if flag !=0:\n",
    "        Sell.append(signal['Close'][i])\n",
    "        flag=0\n",
    "      else:\n",
    "        Sell.append(np.nan)\n",
    "    else:\n",
    "      Buy.append(np.nan)\n",
    "      Sell.append(np.nan)\n",
    " \n",
    "  return(Buy,Sell)\n",
    "      "
   ]
  },
  {
   "cell_type": "code",
   "execution_count": 24,
   "id": "76daf414",
   "metadata": {},
   "outputs": [],
   "source": [
    "a=Buy_Sell(df)\n",
    "df['Buy_Signal_Price']=a[0]\n",
    "df['Sell_Signal_Price']=a[1]"
   ]
  },
  {
   "cell_type": "code",
   "execution_count": 25,
   "id": "ba8fa520",
   "metadata": {},
   "outputs": [
    {
     "data": {
      "text/html": [
       "<div>\n",
       "<style scoped>\n",
       "    .dataframe tbody tr th:only-of-type {\n",
       "        vertical-align: middle;\n",
       "    }\n",
       "\n",
       "    .dataframe tbody tr th {\n",
       "        vertical-align: top;\n",
       "    }\n",
       "\n",
       "    .dataframe thead th {\n",
       "        text-align: right;\n",
       "    }\n",
       "</style>\n",
       "<table border=\"1\" class=\"dataframe\">\n",
       "  <thead>\n",
       "    <tr style=\"text-align: right;\">\n",
       "      <th></th>\n",
       "      <th>Open</th>\n",
       "      <th>High</th>\n",
       "      <th>Low</th>\n",
       "      <th>Close</th>\n",
       "      <th>Adj Close</th>\n",
       "      <th>Volume</th>\n",
       "      <th>MACD</th>\n",
       "      <th>Signal Line</th>\n",
       "      <th>Buy_Signal_Price</th>\n",
       "      <th>Sell_Signal_Price</th>\n",
       "    </tr>\n",
       "    <tr>\n",
       "      <th>Date</th>\n",
       "      <th></th>\n",
       "      <th></th>\n",
       "      <th></th>\n",
       "      <th></th>\n",
       "      <th></th>\n",
       "      <th></th>\n",
       "      <th></th>\n",
       "      <th></th>\n",
       "      <th></th>\n",
       "      <th></th>\n",
       "    </tr>\n",
       "  </thead>\n",
       "  <tbody>\n",
       "    <tr>\n",
       "      <th>2021-11-02</th>\n",
       "      <td>594.0</td>\n",
       "      <td>597.0</td>\n",
       "      <td>590.0</td>\n",
       "      <td>592.0</td>\n",
       "      <td>592.0</td>\n",
       "      <td>15192404</td>\n",
       "      <td>0.894041</td>\n",
       "      <td>0.421474</td>\n",
       "      <td>NaN</td>\n",
       "      <td>NaN</td>\n",
       "    </tr>\n",
       "    <tr>\n",
       "      <th>2021-11-03</th>\n",
       "      <td>597.0</td>\n",
       "      <td>597.0</td>\n",
       "      <td>592.0</td>\n",
       "      <td>592.0</td>\n",
       "      <td>592.0</td>\n",
       "      <td>10224009</td>\n",
       "      <td>0.794768</td>\n",
       "      <td>0.496133</td>\n",
       "      <td>NaN</td>\n",
       "      <td>NaN</td>\n",
       "    </tr>\n",
       "    <tr>\n",
       "      <th>2021-11-04</th>\n",
       "      <td>592.0</td>\n",
       "      <td>594.0</td>\n",
       "      <td>585.0</td>\n",
       "      <td>587.0</td>\n",
       "      <td>587.0</td>\n",
       "      <td>17932145</td>\n",
       "      <td>0.309072</td>\n",
       "      <td>0.458720</td>\n",
       "      <td>NaN</td>\n",
       "      <td>587.0</td>\n",
       "    </tr>\n",
       "    <tr>\n",
       "      <th>2021-11-05</th>\n",
       "      <td>598.0</td>\n",
       "      <td>600.0</td>\n",
       "      <td>595.0</td>\n",
       "      <td>600.0</td>\n",
       "      <td>600.0</td>\n",
       "      <td>33270827</td>\n",
       "      <td>0.962055</td>\n",
       "      <td>0.559387</td>\n",
       "      <td>600.0</td>\n",
       "      <td>NaN</td>\n",
       "    </tr>\n",
       "    <tr>\n",
       "      <th>2021-11-08</th>\n",
       "      <td>600.0</td>\n",
       "      <td>602.0</td>\n",
       "      <td>598.0</td>\n",
       "      <td>602.0</td>\n",
       "      <td>602.0</td>\n",
       "      <td>19752355</td>\n",
       "      <td>1.622233</td>\n",
       "      <td>0.771956</td>\n",
       "      <td>NaN</td>\n",
       "      <td>NaN</td>\n",
       "    </tr>\n",
       "    <tr>\n",
       "      <th>2021-11-09</th>\n",
       "      <td>611.0</td>\n",
       "      <td>617.0</td>\n",
       "      <td>610.0</td>\n",
       "      <td>611.0</td>\n",
       "      <td>611.0</td>\n",
       "      <td>39538660</td>\n",
       "      <td>2.838927</td>\n",
       "      <td>1.185351</td>\n",
       "      <td>NaN</td>\n",
       "      <td>NaN</td>\n",
       "    </tr>\n",
       "    <tr>\n",
       "      <th>2021-11-10</th>\n",
       "      <td>611.0</td>\n",
       "      <td>612.0</td>\n",
       "      <td>608.0</td>\n",
       "      <td>612.0</td>\n",
       "      <td>612.0</td>\n",
       "      <td>16027674</td>\n",
       "      <td>3.839598</td>\n",
       "      <td>1.716200</td>\n",
       "      <td>NaN</td>\n",
       "      <td>NaN</td>\n",
       "    </tr>\n",
       "    <tr>\n",
       "      <th>2021-11-11</th>\n",
       "      <td>600.0</td>\n",
       "      <td>606.0</td>\n",
       "      <td>600.0</td>\n",
       "      <td>606.0</td>\n",
       "      <td>606.0</td>\n",
       "      <td>18463848</td>\n",
       "      <td>4.101211</td>\n",
       "      <td>2.193202</td>\n",
       "      <td>NaN</td>\n",
       "      <td>NaN</td>\n",
       "    </tr>\n",
       "    <tr>\n",
       "      <th>2021-11-12</th>\n",
       "      <td>610.0</td>\n",
       "      <td>611.0</td>\n",
       "      <td>602.0</td>\n",
       "      <td>604.0</td>\n",
       "      <td>604.0</td>\n",
       "      <td>15821327</td>\n",
       "      <td>4.099896</td>\n",
       "      <td>2.574541</td>\n",
       "      <td>NaN</td>\n",
       "      <td>NaN</td>\n",
       "    </tr>\n",
       "    <tr>\n",
       "      <th>2021-11-15</th>\n",
       "      <td>609.0</td>\n",
       "      <td>611.0</td>\n",
       "      <td>607.0</td>\n",
       "      <td>608.0</td>\n",
       "      <td>608.0</td>\n",
       "      <td>15551452</td>\n",
       "      <td>4.371232</td>\n",
       "      <td>2.933879</td>\n",
       "      <td>NaN</td>\n",
       "      <td>NaN</td>\n",
       "    </tr>\n",
       "    <tr>\n",
       "      <th>2021-11-16</th>\n",
       "      <td>612.0</td>\n",
       "      <td>612.0</td>\n",
       "      <td>608.0</td>\n",
       "      <td>610.0</td>\n",
       "      <td>610.0</td>\n",
       "      <td>20917108</td>\n",
       "      <td>4.693547</td>\n",
       "      <td>3.285813</td>\n",
       "      <td>NaN</td>\n",
       "      <td>NaN</td>\n",
       "    </tr>\n",
       "    <tr>\n",
       "      <th>2021-11-17</th>\n",
       "      <td>615.0</td>\n",
       "      <td>615.0</td>\n",
       "      <td>608.0</td>\n",
       "      <td>610.0</td>\n",
       "      <td>610.0</td>\n",
       "      <td>19717852</td>\n",
       "      <td>4.892585</td>\n",
       "      <td>3.607167</td>\n",
       "      <td>NaN</td>\n",
       "      <td>NaN</td>\n",
       "    </tr>\n",
       "    <tr>\n",
       "      <th>2021-11-18</th>\n",
       "      <td>613.0</td>\n",
       "      <td>614.0</td>\n",
       "      <td>607.0</td>\n",
       "      <td>613.0</td>\n",
       "      <td>613.0</td>\n",
       "      <td>20030651</td>\n",
       "      <td>5.232087</td>\n",
       "      <td>3.932151</td>\n",
       "      <td>NaN</td>\n",
       "      <td>NaN</td>\n",
       "    </tr>\n",
       "    <tr>\n",
       "      <th>2021-11-19</th>\n",
       "      <td>622.0</td>\n",
       "      <td>623.0</td>\n",
       "      <td>617.0</td>\n",
       "      <td>618.0</td>\n",
       "      <td>618.0</td>\n",
       "      <td>35554348</td>\n",
       "      <td>5.837313</td>\n",
       "      <td>4.313183</td>\n",
       "      <td>NaN</td>\n",
       "      <td>NaN</td>\n",
       "    </tr>\n",
       "    <tr>\n",
       "      <th>2021-11-22</th>\n",
       "      <td>618.0</td>\n",
       "      <td>618.0</td>\n",
       "      <td>615.0</td>\n",
       "      <td>615.0</td>\n",
       "      <td>615.0</td>\n",
       "      <td>20493341</td>\n",
       "      <td>6.005656</td>\n",
       "      <td>4.651678</td>\n",
       "      <td>NaN</td>\n",
       "      <td>NaN</td>\n",
       "    </tr>\n",
       "  </tbody>\n",
       "</table>\n",
       "</div>"
      ],
      "text/plain": [
       "             Open   High    Low  Close  Adj Close    Volume      MACD  \\\n",
       "Date                                                                    \n",
       "2021-11-02  594.0  597.0  590.0  592.0      592.0  15192404  0.894041   \n",
       "2021-11-03  597.0  597.0  592.0  592.0      592.0  10224009  0.794768   \n",
       "2021-11-04  592.0  594.0  585.0  587.0      587.0  17932145  0.309072   \n",
       "2021-11-05  598.0  600.0  595.0  600.0      600.0  33270827  0.962055   \n",
       "2021-11-08  600.0  602.0  598.0  602.0      602.0  19752355  1.622233   \n",
       "2021-11-09  611.0  617.0  610.0  611.0      611.0  39538660  2.838927   \n",
       "2021-11-10  611.0  612.0  608.0  612.0      612.0  16027674  3.839598   \n",
       "2021-11-11  600.0  606.0  600.0  606.0      606.0  18463848  4.101211   \n",
       "2021-11-12  610.0  611.0  602.0  604.0      604.0  15821327  4.099896   \n",
       "2021-11-15  609.0  611.0  607.0  608.0      608.0  15551452  4.371232   \n",
       "2021-11-16  612.0  612.0  608.0  610.0      610.0  20917108  4.693547   \n",
       "2021-11-17  615.0  615.0  608.0  610.0      610.0  19717852  4.892585   \n",
       "2021-11-18  613.0  614.0  607.0  613.0      613.0  20030651  5.232087   \n",
       "2021-11-19  622.0  623.0  617.0  618.0      618.0  35554348  5.837313   \n",
       "2021-11-22  618.0  618.0  615.0  615.0      615.0  20493341  6.005656   \n",
       "\n",
       "            Signal Line  Buy_Signal_Price  Sell_Signal_Price  \n",
       "Date                                                          \n",
       "2021-11-02     0.421474               NaN                NaN  \n",
       "2021-11-03     0.496133               NaN                NaN  \n",
       "2021-11-04     0.458720               NaN              587.0  \n",
       "2021-11-05     0.559387             600.0                NaN  \n",
       "2021-11-08     0.771956               NaN                NaN  \n",
       "2021-11-09     1.185351               NaN                NaN  \n",
       "2021-11-10     1.716200               NaN                NaN  \n",
       "2021-11-11     2.193202               NaN                NaN  \n",
       "2021-11-12     2.574541               NaN                NaN  \n",
       "2021-11-15     2.933879               NaN                NaN  \n",
       "2021-11-16     3.285813               NaN                NaN  \n",
       "2021-11-17     3.607167               NaN                NaN  \n",
       "2021-11-18     3.932151               NaN                NaN  \n",
       "2021-11-19     4.313183               NaN                NaN  \n",
       "2021-11-22     4.651678               NaN                NaN  "
      ]
     },
     "execution_count": 25,
     "metadata": {},
     "output_type": "execute_result"
    }
   ],
   "source": [
    "df.tail(15)"
   ]
  },
  {
   "cell_type": "code",
   "execution_count": 26,
   "id": "7bcc9b34",
   "metadata": {},
   "outputs": [
    {
     "data": {
      "image/png": "[encoded data removed]",
      "text/plain": [
       "<Figure size 878.4x324 with 1 Axes>"
      ]
     },
     "metadata": {},
     "output_type": "display_data"
    }
   ],
   "source": [
    "#Visually show the stock buy and sell signal\n",
    "plt.figure(figsize=(12.2,4.5))\n",
    "# ^ = shift + 6\n",
    "plt.scatter(df.index,df['Buy_Signal_Price'],color='red', label='Buy',marker='^',alpha=1)\n",
    "#小寫的v\n",
    "plt.scatter(df.index,df['Sell_Signal_Price'],color='green', label='Sell',marker='v',alpha=1)\n",
    "plt.plot(df['Close'], label='Close Price', alpha=0.35)\n",
    "plt.title('Close Price Buy & Sell Signals')\n",
    "#字斜45度角\n",
    "plt.xticks(rotation=45)\n",
    "plt.xlabel('Date')\n",
    "plt.ylabel('Price')\n",
    "plt.legend(loc='upper left')\n",
    "plt.show()"
   ]
  },
  {
   "cell_type": "code",
   "execution_count": null,
   "id": "4eb24cab",
   "metadata": {},
   "outputs": [],
   "source": []
  }
 ],
 "metadata": {
  "kernelspec": {
   "display_name": "Python 3 (ipykernel)",
   "language": "python",
   "name": "python3"
  },
  "language_info": {
   "codemirror_mode": {
    "name": "ipython",
    "version": 3
   },
   "file_extension": ".py",
   "mimetype": "text/x-python",
   "name": "python",
   "nbconvert_exporter": "python",
   "pygments_lexer": "ipython3",
   "version": "3.9.7"
  }
 },
 "nbformat": 4,
 "nbformat_minor": 5
}
